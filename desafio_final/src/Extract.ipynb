{
 "cells": [
  {
   "cell_type": "code",
   "execution_count": null,
   "metadata": {},
   "outputs": [
    {
     "name": "stdout",
     "output_type": "stream",
     "text": [
      "Tabelas base do schema Sales: ['SalesTaxRate', 'PersonCreditCard', 'SalesTerritory', 'SalesTerritoryHistory', 'ShoppingCartItem', 'SpecialOffer', 'SpecialOfferProduct', 'Store', 'CountryRegionCurrency', 'CreditCard', 'Currency', 'CurrencyRate', 'Customer', 'SalesOrderDetail', 'SalesOrderHeader', 'SalesOrderHeaderSalesReason', 'SalesPerson', 'SalesPersonQuotaHistory', 'SalesReason']\n"
     ]
    }
   ],
   "source": [
    "#Este Notebook é para ver quais são as tabelas dentro do schema Sales do AdventureWorks e depois extrair as tabelas no catalog Raw. \n",
    "user = dbutils.secrets.get(\"pietro_secrets_scope\", \"user\")\n",
    "password = dbutils.secrets.get(\"pietro_secrets_scope\", \"password\")\n",
    "port = dbutils.secrets.get(\"pietro_secrets_scope\", \"port\")\n",
    "ip = dbutils.secrets.get(\"pietro_secrets_scope\", \"ip\")\n",
    "\n",
    "\n",
    "jdbc_url = (\n",
    "    f\"jdbc:sqlserver://{ip}:{port};\"\n",
    "    \"databaseName=AdventureWorks;\"\n",
    "    \"encrypt=true;\"\n",
    "    \"trustServerCertificate=true\"\n",
    ")\n",
    "\n",
    "connection_properties = {\n",
    "    \"user\": user,\n",
    "    \"password\": password,\n",
    "    \"driver\": \"com.microsoft.sqlserver.jdbc.SQLServerDriver\"\n",
    "}\n",
    "\n",
    "query = \"\"\"\n",
    "SELECT TABLE_SCHEMA, TABLE_NAME\n",
    "FROM INFORMATION_SCHEMA.TABLES\n",
    "WHERE TABLE_SCHEMA = 'Sales'\n",
    "  AND TABLE_TYPE = 'BASE TABLE'\n",
    "\"\"\"\n",
    "\n",
    "tables_df = spark.read.jdbc(\n",
    "    jdbc_url,\n",
    "    f\"({query}) AS tables\",\n",
    "    properties=connection_properties\n",
    ")\n",
    "\n",
    "tables_list = [row[\"TABLE_NAME\"] for row in tables_df.collect()]\n",
    "\n",
    "for table in tables_list:\n",
    "    df = spark.read.jdbc(jdbc_url, f\"Sales.{table}\", properties=connection_properties)\n",
    "    \n",
    "    table_name = table  \n",
    "    df.write.format(\"delta\").mode(\"overwrite\").saveAsTable(f\"pietro_longui_raw.dev_pietro_longui_sales_raw.{table_name}\")"
   ]
  }
 ],
 "metadata": {
  "application/vnd.databricks.v1+notebook": {
   "dashboards": [],
   "language": "python",
   "notebookMetadata": {
    "pythonIndentUnit": 2
   },
   "notebookName": "notebook",
   "widgets": {}
  },
  "kernelspec": {
   "display_name": ".venv",
   "language": "python",
   "name": "python3"
  },
  "language_info": {
   "codemirror_mode": {
    "name": "ipython",
    "version": 3
   },
   "file_extension": ".py",
   "mimetype": "text/x-python",
   "name": "python",
   "nbconvert_exporter": "python",
   "pygments_lexer": "ipython3",
   "version": "3.10.12"
  }
 },
 "nbformat": 4,
 "nbformat_minor": 0
}
