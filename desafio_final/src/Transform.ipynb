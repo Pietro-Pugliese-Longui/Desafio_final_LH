{
 "cells": [
  {
   "cell_type": "code",
   "execution_count": null,
   "metadata": {},
   "outputs": [],
   "source": [
    "from pyspark.sql.functions import col\n",
    "\n",
    "df = spark.read.table(\"pietro_longui_raw.dev_pietro_longui_sales_raw.countryregioncurrency\")\n",
    "\n",
    "df_transformed = df.select(\n",
    "    col(\"CountryRegionCode\").alias(\"country_region_code\").cast(\"string\"),\n",
    "    col(\"CurrencyCode\").alias(\"currency_code\").cast(\"string\"),\n",
    "    col(\"ModifiedDate\").alias(\"modified_date\").cast(\"timestamp\")\n",
    ")\n",
    "\n",
    "df_transformed.write.format(\"delta\").mode(\"overwrite\").saveAsTable(\"pietro_longui_stg.dev_pietro_longui_sales_stg.country_region_currency\")\n"
   ]
  },
  {
   "cell_type": "code",
   "execution_count": null,
   "metadata": {},
   "outputs": [],
   "source": [
    "\n",
    "df = spark.read.table(\"pietro_longui_raw.dev_pietro_longui_sales_raw.creditcard\")\n",
    "\n",
    "df_transformed = df.select(\n",
    "    col(\"CreditCardID\").alias(\"credit_card_id\").cast(\"int\"),\n",
    "    col(\"CardType\").alias(\"card_type\").cast(\"string\"),\n",
    "    col(\"CardNumber\").alias(\"card_number\").cast(\"string\"),\n",
    "    col(\"ExpMonth\").alias(\"expiration_month\").cast(\"int\"),\n",
    "    col(\"ExpYear\").alias(\"expiration_year\").cast(\"int\"),\n",
    "    col(\"ModifiedDate\").alias(\"modified_date\").cast(\"timestamp\")\n",
    ")\n",
    "\n",
    "df_transformed.write.format(\"delta\").mode(\"overwrite\").saveAsTable(\"pietro_longui_stg.dev_pietro_longui_sales_stg.credit_card\")"
   ]
  },
  {
   "cell_type": "code",
   "execution_count": null,
   "metadata": {},
   "outputs": [],
   "source": [
    "df = spark.read.table(\"pietro_longui_raw.dev_pietro_longui_sales_raw.currency\")\n",
    "\n",
    "df_transformed = df.select(\n",
    "    col(\"CurrencyCode\").alias(\"currency_code\").cast(\"string\"),\n",
    "    col(\"Name\").alias(\"currency_name\").cast(\"string\"),\n",
    "    col(\"ModifiedDate\").alias(\"modified_date\").cast(\"timestamp\")\n",
    ")\n",
    "\n",
    "df_transformed.write.format(\"delta\").mode(\"overwrite\").saveAsTable(\"pietro_longui_stg.dev_pietro_longui_sales_stg.currency\")"
   ]
  },
  {
   "cell_type": "code",
   "execution_count": null,
   "metadata": {},
   "outputs": [],
   "source": [
    "df = spark.read.table(\"pietro_longui_raw.dev_pietro_longui_sales_raw.currencyrate\")\n",
    "\n",
    "df_transformed = df.select(\n",
    "    col(\"CurrencyRateID\").alias(\"currency_rate_id\").cast(\"string\"),\n",
    "    col(\"CurrencyRateDate\").alias(\"currency_rate_date\").cast(\"timestamp\"),\n",
    "    col(\"FromCurrencyCode\").alias(\"from_currency_code\").cast(\"string\"),    \n",
    "    col(\"ToCurrencyCode\").alias(\"to_currency_code\").cast(\"string\"),\n",
    "    col(\"AverageRate\").alias(\"average_rate\").cast(\"string\"),\n",
    "    col(\"EndOfDayRate\").alias(\"end_of_day_rate\").cast(\"string\"),\n",
    "    col(\"ModifiedDate\").alias(\"modified_date\").cast(\"timestamp\")\n",
    ")\n",
    "\n",
    "df_transformed.write.format(\"delta\").mode(\"overwrite\").saveAsTable(\"pietro_longui_stg.dev_pietro_longui_sales_stg.currency_rate\")"
   ]
  },
  {
   "cell_type": "code",
   "execution_count": null,
   "metadata": {},
   "outputs": [],
   "source": [
    "df = spark.read.table(\"pietro_longui_raw.dev_pietro_longui_sales_raw.customer\")\n",
    "\n",
    "df_transformed = df.select(\n",
    "    col(\"CustomerID\").alias(\"customer_id\").cast(\"int\"),\n",
    "    col(\"PersonID\").alias(\"person_id\").cast(\"int\"),\n",
    "    col(\"StoreID\").alias(\"store_id\").cast(\"int\"),    \n",
    "    col(\"TerritoryID\").alias(\"territory_id\").cast(\"int\"),\n",
    "    col(\"AccountNumber\").alias(\"account_number\").cast(\"string\"),\n",
    "    col(\"Rowguid\").alias(\"rowguid\").cast(\"string\"),\n",
    "    col(\"ModifiedDate\").alias(\"modified_date\").cast(\"timestamp\")\n",
    ")\n",
    "\n",
    "df_transformed.write.format(\"delta\").mode(\"overwrite\").saveAsTable(\"pietro_longui_stg.dev_pietro_longui_sales_stg.customer\")"
   ]
  },
  {
   "cell_type": "code",
   "execution_count": null,
   "metadata": {},
   "outputs": [],
   "source": [
    "df = spark.read.table(\"pietro_longui_raw.dev_pietro_longui_sales_raw.personcreditcard\")\n",
    "\n",
    "df_transformed = df.select(\n",
    "    col(\"BusinessEntityID\").alias(\"business_entity_id\").cast(\"int\"),\n",
    "    col(\"CreditCardID\").alias(\"credit_card_id\").cast(\"int\"),\n",
    "    col(\"ModifiedDate\").alias(\"modified_date\").cast(\"timestamp\")\n",
    ")\n",
    "\n",
    "df_transformed.write.format(\"delta\").mode(\"overwrite\").saveAsTable(\"pietro_longui_stg.dev_pietro_longui_sales_stg.person_credit_card\")"
   ]
  },
  {
   "cell_type": "code",
   "execution_count": null,
   "metadata": {},
   "outputs": [],
   "source": [
    "df = spark.read.table(\"pietro_longui_raw.dev_pietro_longui_sales_raw.salesorderdetail\")\n",
    "\n",
    "df_transformed = df.select(\n",
    "    col(\"SalesOrderID\").alias(\"sales_order_id\").cast(\"int\"),\n",
    "    col(\"SalesOrderDetailID\").alias(\"sales_order_detail_id\").cast(\"int\"),\n",
    "    col(\"CarrierTrackingNumber\").alias(\"carrier_tracking_number\").cast(\"string\"),\n",
    "    col(\"OrderQty\").alias(\"order_quantity\").cast(\"int\"),\n",
    "    col(\"ProductID\").alias(\"product_id\").cast(\"int\"),\n",
    "    col(\"SpecialOfferID\").alias(\"special_offer_id\").cast(\"int\"),\n",
    "    col(\"UnitPrice\").alias(\"unit_price\").cast(\"float\"),    \n",
    "    col(\"UnitPriceDiscount\").alias(\"unit_price_discount\").cast(\"float\"),\n",
    "    col(\"LineTotal\").alias(\"subtotal\").cast(\"float\"),\n",
    "    col(\"Rowguid\").alias(\"rowguid\").cast(\"string\"),\n",
    "    col(\"ModifiedDate\").alias(\"modified_date\").cast(\"timestamp\")\n",
    ")\n",
    "\n",
    "df_transformed.write.format(\"delta\").mode(\"overwrite\").saveAsTable(\"pietro_longui_stg.dev_pietro_longui_sales_stg.sales_order_detail\")"
   ]
  },
  {
   "cell_type": "code",
   "execution_count": null,
   "metadata": {},
   "outputs": [],
   "source": [
    "\n",
    "df = spark.read.table(\"pietro_longui_raw.dev_pietro_longui_sales_raw.salesorderheader\")\n",
    "\n",
    "df_transformed = df.select(\n",
    "    col(\"SalesOrderID\").alias(\"sales_order_id\").cast(\"int\"),\n",
    "    col(\"RevisionNumber\").alias(\"revision_number\").cast(\"int\"),\n",
    "    col(\"OrderDate\").alias(\"order_date\").cast(\"date\"),\n",
    "    col(\"DueDate\").alias(\"due_date\").cast(\"date\"),\n",
    "    col(\"ShipDate\").alias(\"ship_date\").cast(\"date\"),\n",
    "    col(\"Status\").alias(\"order_status\").cast(\"int\"),\n",
    "    col(\"OnlineOrderFlag\").alias(\"online_order_flag\").cast(\"boolean\"),\n",
    "    col(\"SalesOrderNumber\").alias(\"sales_order_number\").cast(\"string\"),\n",
    "    col(\"PurchaseOrderNumber\").alias(\"purchase_order_number\").cast(\"string\"),\n",
    "    col(\"AccountNumber\").alias(\"account_number\").cast(\"string\"),\n",
    "    col(\"CustomerID\").alias(\"customer_id\").cast(\"int\"),\n",
    "    col(\"SalesPersonID\").alias(\"sales_person_id\").cast(\"int\"),\n",
    "    col(\"TerritoryID\").alias(\"territory_id\").cast(\"int\"),\n",
    "    col(\"BillToAddressID\").alias(\"customer_bill_to_address_id\").cast(\"int\"),\n",
    "    col(\"ShipToAddressID\").alias(\"customer_ship_to_address_id\").cast(\"int\"),\n",
    "    col(\"ShipMethodID\").alias(\"ship_method_id\").cast(\"int\"),\n",
    "    col(\"CreditCardID\").alias(\"credit_card_id\").cast(\"int\"),\n",
    "    col(\"CreditCardApprovalCode\").alias(\"credit_card_approval_code\").cast(\"string\"),\n",
    "    col(\"CurrencyRateID\").alias(\"currency_rate_id\").cast(\"int\"),\n",
    "    col(\"Subtotal\").alias(\"subtotal\").cast(\"float\"),\n",
    "    col(\"TaxAmt\").alias(\"tax_amount\").cast(\"float\"),\n",
    "    col(\"Freight\").alias(\"freight\").cast(\"float\"),\n",
    "    col(\"TotalDue\").alias(\"total_due\").cast(\"float\"),\n",
    "    col(\"Comment\").alias(\"sales_representative_comment\").cast(\"string\"),\n",
    "    col(\"Rowguid\").alias(\"rowguid\").cast(\"string\"),\n",
    "    col(\"ModifiedDate\").alias(\"modified_date\").cast(\"timestamp\")\n",
    ")\n",
    "\n",
    "df_transformed.write.format(\"delta\").mode(\"overwrite\").saveAsTable(\"pietro_longui_stg.dev_pietro_longui_sales_stg.sales_order_header\")\n"
   ]
  },
  {
   "cell_type": "code",
   "execution_count": null,
   "metadata": {},
   "outputs": [],
   "source": [
    "df = spark.read.table(\"pietro_longui_raw.dev_pietro_longui_sales_raw.salesorderheadersalesreason\")\n",
    "\n",
    "df_transformed = df.select(\n",
    "    col(\"SalesOrderID\").alias(\"sales_order_id\").cast(\"int\"),\n",
    "    col(\"SalesReasonID\").alias(\"sales_reason_id\").cast(\"int\"),\n",
    "    col(\"ModifiedDate\").alias(\"modified_date\").cast(\"timestamp\")\n",
    ")\n",
    "\n",
    "df_transformed.write.format(\"delta\").mode(\"overwrite\").saveAsTable(\"pietro_longui_stg.dev_pietro_longui_sales_stg.sales_order_header_sales_reason\")"
   ]
  },
  {
   "cell_type": "code",
   "execution_count": null,
   "metadata": {},
   "outputs": [],
   "source": [
    "df = spark.read.table(\"pietro_longui_raw.dev_pietro_longui_sales_raw.salesperson\")\n",
    "\n",
    "df_transformed = df.select(\n",
    "    col(\"BusinessEntityID\").alias(\"business_entity_id\").cast(\"int\"),\n",
    "    col(\"TerritoryID\").alias(\"territory_id\").cast(\"int\"),\n",
    "    col(\"SalesQuota\").alias(\"sales_quota\").cast(\"float\"),\n",
    "    col(\"Bonus\").alias(\"bonus\").cast(\"float\"),\n",
    "    col(\"CommissionPct\").alias(\"commission_pct\").cast(\"float\"),\n",
    "    col(\"SalesYTD\").alias(\"sales_ytd\").cast(\"float\"),\n",
    "    col(\"SalesLastYear\").alias(\"sales_last_year\").cast(\"float\"),\n",
    "    col(\"Rowguid\").alias(\"rowguid\").cast(\"string\"),\n",
    "    col(\"ModifiedDate\").alias(\"modified_date\").cast(\"timestamp\")\n",
    ")\n",
    "\n",
    "df_transformed.write.format(\"delta\").mode(\"overwrite\").saveAsTable(\"pietro_longui_stg.dev_pietro_longui_sales_stg.sales_person\")"
   ]
  },
  {
   "cell_type": "code",
   "execution_count": null,
   "metadata": {},
   "outputs": [],
   "source": [
    "df = spark.read.table(\"pietro_longui_raw.dev_pietro_longui_sales_raw.salespersonquotahistory\")\n",
    "\n",
    "df_transformed = df.select(\n",
    "    col(\"BusinessEntityID\").alias(\"business_entity_id\").cast(\"int\"),\n",
    "    col(\"QuotaDate\").alias(\"quota_date\").cast(\"timestamp\"),\n",
    "    col(\"SalesQuota\").alias(\"sales_quota\").cast(\"float\"),\n",
    "    col(\"Rowguid\").alias(\"rowguid\").cast(\"string\"),\n",
    "    col(\"ModifiedDate\").alias(\"modified_date\").cast(\"timestamp\")\n",
    ")\n",
    "\n",
    "df_transformed.write.format(\"delta\").mode(\"overwrite\").saveAsTable(\"pietro_longui_stg.dev_pietro_longui_sales_stg.sales_person_quota_history\")"
   ]
  },
  {
   "cell_type": "code",
   "execution_count": null,
   "metadata": {},
   "outputs": [],
   "source": [
    "df = spark.read.table(\"pietro_longui_raw.dev_pietro_longui_sales_raw.salesreason\")\n",
    "\n",
    "df_transformed = df.select(\n",
    "    col(\"SalesReasonID\").alias(\"sales_reason_id\").cast(\"int\"),\n",
    "    col(\"Name\").alias(\"sales_reason_name\").cast(\"string\"),\n",
    "    col(\"ReasonType\").alias(\"reason_type\").cast(\"string\"),\n",
    "    col(\"ModifiedDate\").alias(\"modified_date\").cast(\"timestamp\")\n",
    ")\n",
    "\n",
    "df_transformed.write.format(\"delta\").mode(\"overwrite\").saveAsTable(\"pietro_longui_stg.dev_pietro_longui_sales_stg.sales_reason\")"
   ]
  },
  {
   "cell_type": "code",
   "execution_count": null,
   "metadata": {},
   "outputs": [],
   "source": [
    "df = spark.read.table(\"pietro_longui_raw.dev_pietro_longui_sales_raw.salestaxrate\")\n",
    "\n",
    "df_transformed = df.select(\n",
    "    col(\"SalesTaxRateID\").alias(\"sales_tax_rate_id\").cast(\"int\"),\n",
    "    col(\"TaxType\").alias(\"tax_type\").cast(\"int\"),\n",
    "    col(\"TaxRate\").alias(\"tax_rate\").cast(\"float\"),\n",
    "    col(\"Name\").alias(\"sales_tax_name\").cast(\"string\"),\n",
    "    col(\"Rowguid\").alias(\"rowguid\").cast(\"string\"),\n",
    "    col(\"ModifiedDate\").alias(\"modified_date\").cast(\"timestamp\")\n",
    ")\n",
    "\n",
    "df_transformed.write.format(\"delta\").mode(\"overwrite\").saveAsTable(\"pietro_longui_stg.dev_pietro_longui_sales_stg.sales_tax_rate\")"
   ]
  },
  {
   "cell_type": "code",
   "execution_count": null,
   "metadata": {},
   "outputs": [],
   "source": [
    "df = spark.read.table(\"pietro_longui_raw.dev_pietro_longui_sales_raw.salesterritory\")\n",
    "\n",
    "df_transformed = df.select(\n",
    "    col(\"TerritoryID\").alias(\"territory_id\").cast(\"int\"),\n",
    "    col(\"Name\").alias(\"territory_name\").cast(\"string\"),\n",
    "    col(\"CountryRegionCode\").alias(\"country_region_code\").cast(\"string\"),\n",
    "    col(\"Group\").alias(\"territory_group_location\").cast(\"string\"),\n",
    "    col(\"SalesYTD\").alias(\"sales_ytd\").cast(\"float\"),\n",
    "    col(\"SalesLastYear\").alias(\"sales_last_year\").cast(\"float\"),\n",
    "    col(\"CostYTD\").alias(\"cost_ytd\").cast(\"float\"),\n",
    "    col(\"CostLastYear\").alias(\"cost_last_year\").cast(\"float\"),\n",
    "    col(\"Rowguid\").alias(\"rowguid\").cast(\"string\"),\n",
    "    col(\"ModifiedDate\").alias(\"modified_date\").cast(\"timestamp\")\n",
    ")\n",
    "\n",
    "df_transformed.write.format(\"delta\").mode(\"overwrite\").saveAsTable(\"pietro_longui_stg.dev_pietro_longui_sales_stg.sales_territory\")"
   ]
  },
  {
   "cell_type": "code",
   "execution_count": null,
   "metadata": {},
   "outputs": [],
   "source": [
    "df = spark.read.table(\"pietro_longui_raw.dev_pietro_longui_sales_raw.salesterritoryhistory\")\n",
    "\n",
    "df_transformed = df.select(\n",
    "    col(\"BusinessEntityID\").alias(\"business_entity_id\").cast(\"int\"),  \n",
    "    col(\"TerritoryID\").alias(\"territory_id\").cast(\"int\"),\n",
    "    col(\"StartDate\").alias(\"start_date\").cast(\"date\"),\n",
    "    col(\"EndDate\").alias(\"end_date\").cast(\"date\"),\n",
    "    col(\"Rowguid\").alias(\"rowguid\").cast(\"string\"),\n",
    "    col(\"ModifiedDate\").alias(\"modified_date\").cast(\"timestamp\")\n",
    ")\n",
    "\n",
    "df_transformed.write.format(\"delta\").mode(\"overwrite\").saveAsTable(\"pietro_longui_stg.dev_pietro_longui_sales_stg.sales_territory_history\")"
   ]
  },
  {
   "cell_type": "code",
   "execution_count": null,
   "metadata": {},
   "outputs": [],
   "source": [
    "df = spark.read.table(\"pietro_longui_raw.dev_pietro_longui_sales_raw.shoppingcartitem\")\n",
    "\n",
    "df_transformed = df.select(\n",
    "    col(\"ShoppingCartItemID\").alias(\"shopping_cart_item_id\").cast(\"int\"),  \n",
    "    col(\"ShoppingCartID\").alias(\"shopping_cart_id\").cast(\"int\"),\n",
    "    col(\"Quantity\").alias(\"quantity\").cast(\"int\"),\n",
    "    col(\"ProductID\").alias(\"product_id\").cast(\"int\"),\n",
    "    col(\"DateCreated\").alias(\"date_created\").cast(\"date\"),\n",
    "    col(\"ModifiedDate\").alias(\"modified_date\").cast(\"timestamp\")\n",
    ")\n",
    "\n",
    "df_transformed.write.format(\"delta\").mode(\"overwrite\").saveAsTable(\"pietro_longui_stg.dev_pietro_longui_sales_stg.shopping_cart_item\")"
   ]
  },
  {
   "cell_type": "code",
   "execution_count": null,
   "metadata": {},
   "outputs": [],
   "source": [
    "df = spark.read.table(\"pietro_longui_raw.dev_pietro_longui_sales_raw.specialoffer\")\n",
    "\n",
    "df_transformed = df.select(\n",
    "    col(\"SpecialOfferID\").alias(\"special_offer_id\").cast(\"int\"),\n",
    "    col(\"Description\").alias(\"special_offer_description\").cast(\"string\"),\n",
    "    col(\"DiscountPct\").alias(\"discount_pct\").cast(\"float\"),\n",
    "    col(\"Type\").alias(\"special_offer_type\").cast(\"string\"),\n",
    "    col(\"Category\").alias(\"special_offer_category\").cast(\"string\"),\n",
    "    col(\"StartDate\").alias(\"start_date\").cast(\"date\"),\n",
    "    col(\"EndDate\").alias(\"end_date\").cast(\"date\"),\n",
    "    col(\"MinQty\").alias(\"min_quantity\").cast(\"int\"),\n",
    "    col(\"MaxQty\").alias(\"max_quantity\").cast(\"int\"),\n",
    "    col(\"Rowguid\").alias(\"rowguid\").cast(\"string\"),\n",
    "    col(\"ModifiedDate\").alias(\"modified_date\").cast(\"timestamp\"),\n",
    ")\n",
    "\n",
    "df_transformed.write.format(\"delta\").mode(\"overwrite\").saveAsTable(\"pietro_longui_stg.dev_pietro_longui_sales_stg.special_offer\")"
   ]
  },
  {
   "cell_type": "code",
   "execution_count": null,
   "metadata": {},
   "outputs": [],
   "source": [
    "df = spark.read.table(\"pietro_longui_raw.dev_pietro_longui_sales_raw.specialofferproduct\")\n",
    "\n",
    "df_transformed = df.select(\n",
    "    col(\"SpecialOfferID\").alias(\"special_offer_id\").cast(\"int\"),\n",
    "    col(\"ProductID\").alias(\"product_id\").cast(\"int\"),\n",
    "    col(\"Rowguid\").alias(\"rowguid\").cast(\"string\"),\n",
    "    col(\"ModifiedDate\").alias(\"modified_date\").cast(\"timestamp\"),\n",
    ")\n",
    "\n",
    "df_transformed.write.format(\"delta\").mode(\"overwrite\").saveAsTable(\"pietro_longui_stg.dev_pietro_longui_sales_stg.special_offer_product\")"
   ]
  },
  {
   "cell_type": "code",
   "execution_count": null,
   "metadata": {},
   "outputs": [],
   "source": [
    "from pyspark.sql.functions import col, expr\n",
    "\n",
    "df = spark.read.table(\"pietro_longui_raw.dev_pietro_longui_sales_raw.store\")\n",
    "\n",
    "df_transformed = df.select(\n",
    "    col(\"BusinessEntityID\").alias(\"business_entity_id\").cast(\"int\"),\n",
    "    col(\"Name\").alias(\"store_name\").cast(\"string\"),\n",
    "    col(\"SalesPersonID\").alias(\"sales_person_id\").cast(\"int\"),\n",
    "    col(\"Rowguid\").alias(\"rowguid\").cast(\"string\"),\n",
    "    col(\"ModifiedDate\").alias(\"modified_date\").cast(\"timestamp\"),\n",
    "\n",
    "    expr(\"xpath_string(Demographics, 'StoreSurvey/AnnualSales')\").alias(\"annual_sales\").cast(\"float\"),\n",
    "    expr(\"xpath_string(Demographics, 'StoreSurvey/AnnualRevenue')\").alias(\"annual_revenue\").cast(\"float\"),\n",
    "    expr(\"xpath_string(Demographics, 'StoreSurvey/BankName')\").alias(\"bank_name\").cast(\"string\"),\n",
    "    expr(\"xpath_string(Demographics, 'StoreSurvey/BusinessType')\").alias(\"business_type\").cast(\"string\"),\n",
    "    expr(\"xpath_string(Demographics, 'StoreSurvey/YearOpened')\").alias(\"year_opened\").cast(\"int\"),\n",
    "    expr(\"xpath_string(Demographics, 'StoreSurvey/Specialty')\").alias(\"specialty\").cast(\"string\"),\n",
    "    expr(\"xpath_string(Demographics, 'StoreSurvey/SquareFeet')\").alias(\"square_feet\").cast(\"int\"),\n",
    "    expr(\"xpath_string(Demographics, 'StoreSurvey/Brands')\").alias(\"brands\").cast(\"string\"),\n",
    "    expr(\"xpath_string(Demographics, 'StoreSurvey/Internet')\").alias(\"internet\").cast(\"string\"),\n",
    "    expr(\"xpath_string(Demographics, 'StoreSurvey/NumberEmployees')\").alias(\"number_employees\").cast(\"int\")\n",
    ")\n",
    "\n",
    "df_transformed.write.format(\"delta\").mode(\"overwrite\").option(\"mergeSchema\", \"true\").saveAsTable(\"pietro_longui_stg.dev_pietro_longui_sales_stg.store\")\n",
    "\n"
   ]
  }
 ],
 "metadata": {
  "application/vnd.databricks.v1+notebook": {
   "dashboards": [],
   "language": "python",
   "notebookMetadata": {
    "pythonIndentUnit": 2
   },
   "notebookName": "notebook",
   "widgets": {}
  },
  "kernelspec": {
   "display_name": ".venv",
   "language": "python",
   "name": "python3"
  },
  "language_info": {
   "codemirror_mode": {
    "name": "ipython",
    "version": 3
   },
   "file_extension": ".py",
   "mimetype": "text/x-python",
   "name": "python",
   "nbconvert_exporter": "python",
   "pygments_lexer": "ipython3",
   "version": "3.10.12"
  }
 },
 "nbformat": 4,
 "nbformat_minor": 0
}
