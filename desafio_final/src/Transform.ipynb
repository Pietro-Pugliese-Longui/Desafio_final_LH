{
 "cells": [
  {
   "cell_type": "code",
   "execution_count": null,
   "metadata": {},
   "outputs": [],
   "source": [
    "from pyspark.sql.functions import col\n",
    "\n",
    "df = spark.read.table(\"pietro_longui_raw.dev_pietro_longui_sales_raw.countryregioncurrency\")\n",
    "\n",
    "df_transformed = df.select(\n",
    "    col(\"CountryRegionCode\").alias(\"Country_Region_Code\").cast(\"string\"),\n",
    "    col(\"CurrencyCode\").alias(\"Currency_Code\").cast(\"string\"),\n",
    "    col(\"ModifiedDate\").alias(\"Modified_Date\").cast(\"timestamp\")\n",
    ")\n",
    "\n",
    "df_transformed.write.format(\"delta\").mode(\"overwrite\").saveAsTable(\"pietro_longui_stg.dev_pietro_longui_sales_stg.country_region_currency\")\n"
   ]
  },
  {
   "cell_type": "code",
   "execution_count": null,
   "metadata": {},
   "outputs": [],
   "source": [
    "\n",
    "df = spark.read.table(\"pietro_longui_raw.dev_pietro_longui_sales_raw.creditcard\")\n",
    "\n",
    "df_transformed = df.select(\n",
    "    col(\"CreditCardID\").alias(\"Credit_Card_ID\").cast(\"int\"),\n",
    "    col(\"CardType\").alias(\"Card_Type\").cast(\"string\"),\n",
    "    col(\"CardNumber\").alias(\"Card_Number\").cast(\"string\"),\n",
    "    col(\"ExpMonth\").alias(\"Expiration_Month\").cast(\"int\"),\n",
    "    col(\"ExpYear\").alias(\"Expiration_Year\").cast(\"int\"),\n",
    "    col(\"ModifiedDate\").alias(\"Modified_Date\").cast(\"timestamp\")\n",
    ")\n",
    "\n",
    "df_transformed.write.format(\"delta\").mode(\"overwrite\").saveAsTable(\"pietro_longui_stg.dev_pietro_longui_sales_stg.credit_card\")"
   ]
  },
  {
   "cell_type": "code",
   "execution_count": null,
   "metadata": {},
   "outputs": [],
   "source": [
    "df = spark.read.table(\"pietro_longui_raw.dev_pietro_longui_sales_raw.currency\")\n",
    "\n",
    "df_transformed = df.select(\n",
    "    col(\"CurrencyCode\").alias(\"Currecy_Code\").cast(\"string\"),\n",
    "    col(\"Name\").alias(\"Currency_Name\").cast(\"string\"),\n",
    "    col(\"ModifiedDate\").alias(\"Modified_Date\").cast(\"timestamp\")\n",
    ")\n",
    "\n",
    "df_transformed.write.format(\"delta\").mode(\"overwrite\").saveAsTable(\"pietro_longui_stg.dev_pietro_longui_sales_stg.currency\")"
   ]
  },
  {
   "cell_type": "code",
   "execution_count": null,
   "metadata": {},
   "outputs": [],
   "source": [
    "df = spark.read.table(\"pietro_longui_raw.dev_pietro_longui_sales_raw.currencyrate\")\n",
    "\n",
    "df_transformed = df.select(\n",
    "    col(\"CurrencyRateID\").alias(\"Currency_Rate_ID\").cast(\"string\"),\n",
    "    col(\"CurrencyRateDate\").alias(\"Currency_Rate_Date\").cast(\"timestamp\"),\n",
    "    col(\"FromCurrencyCode\").alias(\"From_Currency_code\").cast(\"string\"),    \n",
    "    col(\"ToCurrencyCode\").alias(\"To_Currency_code\").cast(\"string\"),\n",
    "    col(\"AverageRate\").alias(\"Average_Rate\").cast(\"string\"),\n",
    "    col(\"EndOfDayRate\").alias(\"End_Of_Day_Rate\").cast(\"string\"),\n",
    "    col(\"ModifiedDate\").alias(\"Modified_Date\").cast(\"timestamp\")\n",
    ")\n",
    "\n",
    "df_transformed.write.format(\"delta\").mode(\"overwrite\").saveAsTable(\"pietro_longui_stg.dev_pietro_longui_sales_stg.currency_rate\")"
   ]
  },
  {
   "cell_type": "code",
   "execution_count": null,
   "metadata": {},
   "outputs": [],
   "source": [
    "df = spark.read.table(\"pietro_longui_raw.dev_pietro_longui_sales_raw.customer\")\n",
    "\n",
    "df_transformed = df.select(\n",
    "    col(\"CustomerID\").alias(\"Customer_ID\").cast(\"int\"),\n",
    "    col(\"PersonID\").alias(\"Person_ID\").cast(\"int\"),\n",
    "    col(\"StoreID\").alias(\"Store_ID\").cast(\"int\"),    \n",
    "    col(\"TerritoryID\").alias(\"Territory_ID\").cast(\"int\"),\n",
    "    col(\"AccountNumber\").alias(\"Account_Number\").cast(\"string\"),\n",
    "    col(\"Rowguid\").alias(\"Rowguid\").cast(\"string\"),\n",
    "    col(\"ModifiedDate\").alias(\"Modified_Date\").cast(\"timestamp\")\n",
    ")\n",
    "\n",
    "df_transformed.write.format(\"delta\").mode(\"overwrite\").saveAsTable(\"pietro_longui_stg.dev_pietro_longui_sales_stg.customer\")"
   ]
  },
  {
   "cell_type": "code",
   "execution_count": null,
   "metadata": {},
   "outputs": [],
   "source": [
    "df = spark.read.table(\"pietro_longui_raw.dev_pietro_longui_sales_raw.personcreditcard\")\n",
    "\n",
    "df_transformed = df.select(\n",
    "    col(\"BusinessEntityID\").alias(\"Business_Entity_ID\").cast(\"int\"),\n",
    "    col(\"CreditCardID\").alias(\"Credit_Card_ID\").cast(\"int\"),\n",
    "    col(\"ModifiedDate\").alias(\"Modified_Date\").cast(\"timestamp\")\n",
    ")\n",
    "\n",
    "df_transformed.write.format(\"delta\").mode(\"overwrite\").saveAsTable(\"pietro_longui_stg.dev_pietro_longui_sales_stg.person_credit_card\")"
   ]
  },
  {
   "cell_type": "code",
   "execution_count": null,
   "metadata": {},
   "outputs": [],
   "source": [
    "df = spark.read.table(\"pietro_longui_raw.dev_pietro_longui_sales_raw.salesorderdetail\")\n",
    "\n",
    "df_transformed = df.select(\n",
    "    col(\"SalesOrderID\").alias(\"Sales_Order_ID\").cast(\"int\"),\n",
    "    col(\"SalesOrderDetailID\").alias(\"Sales_Order_Detail_ID\").cast(\"int\"),\n",
    "    col(\"CarrierTrackingNumber\").alias(\"Carrier_Tracking_Number\").cast(\"string\"),\n",
    "    col(\"OrderQty\").alias(\"Order_Quantity\").cast(\"int\"),\n",
    "    col(\"ProductID\").alias(\"Product_ID\").cast(\"int\"),\n",
    "    col(\"SpecialOfferID\").alias(\"Special_Offer_ID\").cast(\"int\"),\n",
    "    col(\"UnitPrice\").alias(\"Unit_price\").cast(\"float\"),    \n",
    "    col(\"UnitPriceDiscount\").alias(\"Unit_Price_Discount\").cast(\"float\"),\n",
    "    col(\"LineTotal\").alias(\"Subtotal\").cast(\"float\"),\n",
    "    col(\"Rowguid\").alias(\"Rowguid\").cast(\"string\"),\n",
    "    col(\"ModifiedDate\").alias(\"Modified_Date\").cast(\"timestamp\")\n",
    ")\n",
    "\n",
    "df_transformed.write.format(\"delta\").mode(\"overwrite\").saveAsTable(\"pietro_longui_stg.dev_pietro_longui_sales_stg.sales_order_detail\")"
   ]
  },
  {
   "cell_type": "code",
   "execution_count": null,
   "metadata": {},
   "outputs": [],
   "source": [
    "\n",
    "df = spark.read.table(\"pietro_longui_raw.dev_pietro_longui_sales_raw.salesorderheader\")\n",
    "\n",
    "df_transformed = df.select(\n",
    "    col(\"SalesOrderID\").alias(\"Sales_Order_ID\").cast(\"int\"),\n",
    "    col(\"RevisionNumber\").alias(\"Revision_Number\").cast(\"int\"),\n",
    "    col(\"OrderDate\").alias(\"Order_Date\").cast(\"date\"),\n",
    "    col(\"DueDate\").alias(\"Due_Date\").cast(\"date\"),\n",
    "    col(\"ShipDate\").alias(\"Ship_Date\").cast(\"date\"),\n",
    "    col(\"Status\").alias(\"Order_Status\").cast(\"int\"),\n",
    "    col(\"OnlineOrderFlag\").alias(\"Online_Order_Flag\").cast(\"boolean\"),\n",
    "    col(\"SalesOrderNumber\").alias(\"Sales_Order_Number\").cast(\"string\"),\n",
    "    col(\"PurchaseOrderNumber\").alias(\"Purchase_Order_Number\").cast(\"string\"),\n",
    "    col(\"AccountNumber\").alias(\"Account_Number\").cast(\"string\"),\n",
    "    col(\"CustomerID\").alias(\"Customer_ID\").cast(\"int\"),\n",
    "    col(\"SalesPersonID\").alias(\"Sales_Person_ID\").cast(\"int\"),\n",
    "    col(\"TerritoryID\").alias(\"Territory_ID\").cast(\"int\"),\n",
    "    col(\"BillToAddressID\").alias(\"Customer_Bill_To_Address_ID\").cast(\"int\"),\n",
    "    col(\"ShipToAddressID\").alias(\"Customer_Ship_To_Address_ID\").cast(\"int\"),\n",
    "    col(\"ShipMethodID\").alias(\"Ship_Method_ID\").cast(\"int\"),\n",
    "    col(\"CreditCardID\").alias(\"Credit_Card_ID\").cast(\"int\"),\n",
    "    col(\"CreditCardApprovalCode\").alias(\"Credit_Card_Approval_Code\").cast(\"string\"),\n",
    "    col(\"CurrencyRateID\").alias(\"Currency_Rate_ID\").cast(\"int\"),\n",
    "    col(\"Subtotal\").alias(\"Subtotal\").cast(\"float\"),\n",
    "    col(\"TaxAmt\").alias(\"Tax_Amount\").cast(\"float\"),\n",
    "    col(\"Freight\").alias(\"Freight\").cast(\"float\"),\n",
    "    col(\"TotalDue\").alias(\"Total_Due\").cast(\"float\"),\n",
    "    col(\"Comment\").alias(\"sales_representative_comment\").cast(\"string\"),\n",
    "    col(\"Rowguid\").alias(\"Rowguid\").cast(\"string\"),\n",
    "    col(\"ModifiedDate\").alias(\"Modified_Date\").cast(\"timestamp\")\n",
    ")\n",
    "\n",
    "df_transformed.write.format(\"delta\").mode(\"overwrite\").saveAsTable(\"pietro_longui_stg.dev_pietro_longui_sales_stg.sales_order_header\")\n"
   ]
  },
  {
   "cell_type": "code",
   "execution_count": null,
   "metadata": {},
   "outputs": [],
   "source": [
    "df = spark.read.table(\"pietro_longui_raw.dev_pietro_longui_sales_raw.salesorderheadersalesreason\")\n",
    "\n",
    "df_transformed = df.select(\n",
    "    col(\"SalesOrderID\").alias(\"Sales_Order_ID\").cast(\"int\"),\n",
    "    col(\"SalesReasonID\").alias(\"Sales_Reason_ID\").cast(\"int\"),\n",
    "    col(\"ModifiedDate\").alias(\"Modified_Date\").cast(\"timestamp\")\n",
    ")\n",
    "\n",
    "df_transformed.write.format(\"delta\").mode(\"overwrite\").saveAsTable(\"pietro_longui_stg.dev_pietro_longui_sales_stg.sales_order_header_sales_reason\")"
   ]
  },
  {
   "cell_type": "code",
   "execution_count": null,
   "metadata": {},
   "outputs": [],
   "source": [
    "df = spark.read.table(\"pietro_longui_raw.dev_pietro_longui_sales_raw.salesperson\")\n",
    "\n",
    "df_transformed = df.select(\n",
    "    col(\"BusinessEntityID\").alias(\"Business_Entity_ID\").cast(\"int\"),\n",
    "    col(\"TerritoryID\").alias(\"Territory_ID\").cast(\"int\"),\n",
    "    col(\"SalesQuota\").alias(\"Sales_Quota\").cast(\"float\"),\n",
    "    col(\"Bonus\").alias(\"Bonus\").cast(\"float\"),\n",
    "    col(\"CommissionPct\").alias(\"Commission_Pct\").cast(\"float\"),\n",
    "    col(\"SalesYTD\").alias(\"Sales_Ytd\").cast(\"float\"),\n",
    "    col(\"SalesLastYear\").alias(\"Sales_Last_Year\").cast(\"float\"),\n",
    "    col(\"Rowguid\").alias(\"Rowguid\").cast(\"string\"),\n",
    "    col(\"ModifiedDate\").alias(\"Modified_Date\").cast(\"timestamp\")\n",
    ")\n",
    "\n",
    "df_transformed.write.format(\"delta\").mode(\"overwrite\").saveAsTable(\"pietro_longui_stg.dev_pietro_longui_sales_stg.sales_person\")"
   ]
  },
  {
   "cell_type": "code",
   "execution_count": null,
   "metadata": {},
   "outputs": [],
   "source": [
    "df = spark.read.table(\"pietro_longui_raw.dev_pietro_longui_sales_raw.salespersonquotahistory\")\n",
    "\n",
    "df_transformed = df.select(\n",
    "    col(\"BusinessEntityID\").alias(\"Business_Entity_ID\").cast(\"int\"),\n",
    "    col(\"QuotaDate\").alias(\"Quota_Date\").cast(\"timestamp\"),\n",
    "    col(\"SalesQuota\").alias(\"Sales_Quota\").cast(\"float\"),\n",
    "    col(\"Rowguid\").alias(\"Rowguid\").cast(\"string\"),\n",
    "    col(\"ModifiedDate\").alias(\"Modified_Date\").cast(\"timestamp\")\n",
    ")\n",
    "\n",
    "df_transformed.write.format(\"delta\").mode(\"overwrite\").saveAsTable(\"pietro_longui_stg.dev_pietro_longui_sales_stg.sales_person_quota_history\")"
   ]
  },
  {
   "cell_type": "code",
   "execution_count": null,
   "metadata": {},
   "outputs": [],
   "source": [
    "df = spark.read.table(\"pietro_longui_raw.dev_pietro_longui_sales_raw.salesreason\")\n",
    "\n",
    "df_transformed = df.select(\n",
    "    col(\"SalesReasonID\").alias(\"Sales_Reason_ID\").cast(\"int\"),\n",
    "    col(\"Name\").alias(\"Sales_Reason_Name\").cast(\"string\"),\n",
    "    col(\"ReasonType\").alias(\"Reason_Type\").cast(\"string\"),\n",
    "    col(\"ModifiedDate\").alias(\"Modified_Date\").cast(\"timestamp\")\n",
    ")\n",
    "\n",
    "df_transformed.write.format(\"delta\").mode(\"overwrite\").saveAsTable(\"pietro_longui_stg.dev_pietro_longui_sales_stg.sales_reason\")"
   ]
  },
  {
   "cell_type": "code",
   "execution_count": null,
   "metadata": {},
   "outputs": [],
   "source": [
    "df = spark.read.table(\"pietro_longui_raw.dev_pietro_longui_sales_raw.salestaxrate\")\n",
    "\n",
    "df_transformed = df.select(\n",
    "    col(\"SalesTaxRateID\").alias(\"Sales_Tax_Rate_ID\").cast(\"int\"),\n",
    "    col(\"TaxType\").alias(\"Tax_Type\").cast(\"int\"),\n",
    "    col(\"TaxRate\").alias(\"Tax_Rate\").cast(\"float\"),\n",
    "    col(\"Name\").alias(\"Sales_Tax_Name\").cast(\"string\"),\n",
    "    col(\"Rowguid\").alias(\"Rowguid\").cast(\"string\"),\n",
    "    col(\"ModifiedDate\").alias(\"Modified_Date\").cast(\"timestamp\")\n",
    ")\n",
    "\n",
    "df_transformed.write.format(\"delta\").mode(\"overwrite\").saveAsTable(\"pietro_longui_stg.dev_pietro_longui_sales_stg.sales_tax_rate\")"
   ]
  },
  {
   "cell_type": "code",
   "execution_count": null,
   "metadata": {},
   "outputs": [],
   "source": [
    "df = spark.read.table(\"pietro_longui_raw.dev_pietro_longui_sales_raw.salesterritory\")\n",
    "\n",
    "df_transformed = df.select(\n",
    "    col(\"TerritoryID\").alias(\"Territory_ID\").cast(\"int\"),\n",
    "    col(\"Name\").alias(\"Territory_Name\").cast(\"string\"),\n",
    "    col(\"CountryRegionCode\").alias(\"Country_Region_Code\").cast(\"string\"),\n",
    "    col(\"Group\").alias(\"Territory_Group_location\").cast(\"string\"),\n",
    "    col(\"SalesYTD\").alias(\"Sales_Ytd\").cast(\"float\"),\n",
    "    col(\"SalesLastYear\").alias(\"Sales_Last_Year\").cast(\"float\"),\n",
    "    col(\"CostYTD\").alias(\"Cost_Ytd\").cast(\"float\"),\n",
    "    col(\"CostLastYear\").alias(\"Cost_Last_Year\").cast(\"float\"),\n",
    "    col(\"Rowguid\").alias(\"Rowguid\").cast(\"string\"),\n",
    "    col(\"ModifiedDate\").alias(\"Modified_Date\").cast(\"timestamp\")\n",
    ")\n",
    "\n",
    "df_transformed.write.format(\"delta\").mode(\"overwrite\").saveAsTable(\"pietro_longui_stg.dev_pietro_longui_sales_stg.sales_territory\")"
   ]
  },
  {
   "cell_type": "code",
   "execution_count": null,
   "metadata": {},
   "outputs": [],
   "source": [
    "df = spark.read.table(\"pietro_longui_raw.dev_pietro_longui_sales_raw.salesterritoryhistory\")\n",
    "\n",
    "df_transformed = df.select(\n",
    "    col(\"BusinessEntityID\").alias(\"Business_Entity_ID\").cast(\"int\"),  \n",
    "    col(\"TerritoryID\").alias(\"Territory_ID\").cast(\"int\"),\n",
    "    col(\"StartDate\").alias(\"Start_Date\").cast(\"date\"),\n",
    "    col(\"EndDate\").alias(\"End_Date\").cast(\"date\"),\n",
    "    col(\"Rowguid\").alias(\"Rowguid\").cast(\"string\"),\n",
    "    col(\"ModifiedDate\").alias(\"Modified_Date\").cast(\"timestamp\")\n",
    ")\n",
    "\n",
    "df_transformed.write.format(\"delta\").mode(\"overwrite\").saveAsTable(\"pietro_longui_stg.dev_pietro_longui_sales_stg.sales_territory_history\")"
   ]
  },
  {
   "cell_type": "code",
   "execution_count": null,
   "metadata": {},
   "outputs": [],
   "source": [
    "df = spark.read.table(\"pietro_longui_raw.dev_pietro_longui_sales_raw.shoppingcartitem\")\n",
    "\n",
    "df_transformed = df.select(\n",
    "    col(\"ShoppingCartItemID\").alias(\"Shopping_Cart_Item_ID\").cast(\"int\"),  \n",
    "    col(\"ShoppingCartID\").alias(\"Shopping_Cart_ID\").cast(\"int\"),\n",
    "    col(\"Quantity\").alias(\"Quantity\").cast(\"int\"),\n",
    "    col(\"ProductID\").alias(\"Product_ID\").cast(\"int\"),\n",
    "    col(\"DateCreated\").alias(\"Date_Created\").cast(\"date\"),\n",
    "    col(\"ModifiedDate\").alias(\"Modified_Date\").cast(\"timestamp\")\n",
    ")\n",
    "\n",
    "df_transformed.write.format(\"delta\").mode(\"overwrite\").saveAsTable(\"pietro_longui_stg.dev_pietro_longui_sales_stg.shopping_cart_item\")"
   ]
  },
  {
   "cell_type": "code",
   "execution_count": null,
   "metadata": {},
   "outputs": [],
   "source": [
    "df = spark.read.table(\"pietro_longui_raw.dev_pietro_longui_sales_raw.specialoffer\")\n",
    "\n",
    "df_transformed = df.select(\n",
    "    col(\"SpecialOfferID\").alias(\"Special_Offer_ID\").cast(\"int\"),\n",
    "    col(\"Description\").alias(\"Special_Offer_Description\").cast(\"string\"),\n",
    "    col(\"DiscountPct\").alias(\"Discount_Pct\").cast(\"float\"),\n",
    "    col(\"Type\").alias(\"Special_Offer_Type\").cast(\"string\"),\n",
    "    col(\"Category\").alias(\"Special_Offer_Category\").cast(\"string\"),\n",
    "    col(\"StartDate\").alias(\"Start_Date\").cast(\"date\"),\n",
    "    col(\"EndDate\").alias(\"End_Date\").cast(\"date\"),\n",
    "    col(\"MinQty\").alias(\"Min_Quantity\").cast(\"int\"),\n",
    "    col(\"MaxQty\").alias(\"Max_Quantity\").cast(\"int\"),\n",
    "    col(\"Rowguid\").alias(\"Rowguid\").cast(\"string\"),\n",
    "    col(\"ModifiedDate\").alias(\"Modified_Date\").cast(\"timestamp\"),\n",
    ")\n",
    "\n",
    "df_transformed.write.format(\"delta\").mode(\"overwrite\").saveAsTable(\"pietro_longui_stg.dev_pietro_longui_sales_stg.special_offer\")"
   ]
  },
  {
   "cell_type": "code",
   "execution_count": null,
   "metadata": {},
   "outputs": [],
   "source": [
    "df = spark.read.table(\"pietro_longui_raw.dev_pietro_longui_sales_raw.specialofferproduct\")\n",
    "\n",
    "df_transformed = df.select(\n",
    "    col(\"SpecialOfferID\").alias(\"Special_Offer_ID\").cast(\"int\"),\n",
    "    col(\"ProductID\").alias(\"Product_ID\").cast(\"int\"),\n",
    "    col(\"Rowguid\").alias(\"Rowguid\").cast(\"string\"),\n",
    "    col(\"ModifiedDate\").alias(\"Modified_Date\").cast(\"timestamp\"),\n",
    ")\n",
    "\n",
    "df_transformed.write.format(\"delta\").mode(\"overwrite\").saveAsTable(\"pietro_longui_stg.dev_pietro_longui_sales_stg.special_offer_product\")"
   ]
  },
  {
   "cell_type": "code",
   "execution_count": null,
   "metadata": {},
   "outputs": [],
   "source": [
    "from pyspark.sql.functions import col, expr\n",
    "\n",
    "df = spark.read.table(\"pietro_longui_raw.dev_pietro_longui_sales_raw.store\")\n",
    "\n",
    "df_transformed = df.select(\n",
    "    col(\"BusinessEntityID\").alias(\"Business_Entity_ID\").cast(\"int\"),\n",
    "    col(\"Name\").alias(\"Store_Name\").cast(\"string\"),\n",
    "    col(\"SalesPersonID\").alias(\"Sales_Person_ID\").cast(\"int\"),\n",
    "    col(\"Rowguid\").alias(\"Rowguid\").cast(\"string\"),\n",
    "    col(\"ModifiedDate\").alias(\"Modified_Date\").cast(\"timestamp\"),\n",
    "\n",
    "    expr(\"xpath_string(Demographics, 'StoreSurvey/AnnualSales')\").alias(\"Annual_Sales\").cast(\"float\"),\n",
    "    expr(\"xpath_string(Demographics, 'StoreSurvey/AnnualRevenue')\").alias(\"Annual_Revenue\").cast(\"float\"),\n",
    "    expr(\"xpath_string(Demographics, 'StoreSurvey/BankName')\").alias(\"Bank_Name\").cast(\"string\"),\n",
    "    expr(\"xpath_string(Demographics, 'StoreSurvey/BusinessType')\").alias(\"Business_Type\").cast(\"string\"),\n",
    "    expr(\"xpath_string(Demographics, 'StoreSurvey/YearOpened')\").alias(\"Year_Opened\").cast(\"int\"),\n",
    "    expr(\"xpath_string(Demographics, 'StoreSurvey/Specialty')\").alias(\"Specialty\").cast(\"string\"),\n",
    "    expr(\"xpath_string(Demographics, 'StoreSurvey/SquareFeet')\").alias(\"Square_Feet\").cast(\"int\"),\n",
    "    expr(\"xpath_string(Demographics, 'StoreSurvey/Brands')\").alias(\"Brands\").cast(\"string\"),\n",
    "    expr(\"xpath_string(Demographics, 'StoreSurvey/Internet')\").alias(\"Internet\").cast(\"string\"),\n",
    "    expr(\"xpath_string(Demographics, 'StoreSurvey/NumberEmployees')\").alias(\"Number_Employees\").cast(\"int\")\n",
    ")\n",
    "\n",
    "df_transformed.write.format(\"delta\").mode(\"overwrite\").option(\"mergeSchema\", \"true\").saveAsTable(\"pietro_longui_stg.dev_pietro_longui_sales_stg.store\")\n",
    "\n"
   ]
  }
 ],
 "metadata": {
  "application/vnd.databricks.v1+notebook": {
   "dashboards": [],
   "language": "python",
   "notebookMetadata": {
    "pythonIndentUnit": 2
   },
   "notebookName": "notebook",
   "widgets": {}
  },
  "kernelspec": {
   "display_name": ".venv",
   "language": "python",
   "name": "python3"
  },
  "language_info": {
   "codemirror_mode": {
    "name": "ipython",
    "version": 3
   },
   "file_extension": ".py",
   "mimetype": "text/x-python",
   "name": "python",
   "nbconvert_exporter": "python",
   "pygments_lexer": "ipython3",
   "version": "3.10.12"
  }
 },
 "nbformat": 4,
 "nbformat_minor": 0
}
